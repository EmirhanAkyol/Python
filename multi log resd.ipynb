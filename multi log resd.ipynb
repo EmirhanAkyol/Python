{
 "cells": [
  {
   "cell_type": "code",
   "execution_count": 1,
   "metadata": {},
   "outputs": [],
   "source": [
    "import numpy as np\n",
    "import pylab as pl\n",
    "import pandas as pd\n",
    "import matplotlib.pyplot as plt \n",
    "%matplotlib inline\n",
    "import seaborn as sns\n",
    "from sklearn.utils import shuffle\n",
    "from sklearn.svm import SVC\n",
    "from sklearn.metrics import confusion_matrix,classification_report\n",
    "from sklearn.model_selection import cross_val_score, GridSearchCV\n",
    "from sklearn.datasets import make_classification\n",
    "import matplotlib.pyplot as plt \n",
    "from sklearn.linear_model import LogisticRegression\n",
    "from sklearn.model_selection import train_test_split"
   ]
  },
  {
   "cell_type": "code",
   "execution_count": 2,
   "metadata": {},
   "outputs": [],
   "source": [
    "names = ['x','y']\n",
    "df = pd.read_csv(\"/home/emirhan/Desktop/tez/wisdm-dataset/wisdm-dataset/raw/phone/accel/data_1635_accel_phone.txt\", names=['Subject_id', 'Activity_label', 'Time_stamp','x', 'y', 'z'])"
   ]
  },
  {
   "cell_type": "code",
   "execution_count": 3,
   "metadata": {},
   "outputs": [
    {
     "data": {
      "text/html": [
       "<div>\n",
       "<style scoped>\n",
       "    .dataframe tbody tr th:only-of-type {\n",
       "        vertical-align: middle;\n",
       "    }\n",
       "\n",
       "    .dataframe tbody tr th {\n",
       "        vertical-align: top;\n",
       "    }\n",
       "\n",
       "    .dataframe thead th {\n",
       "        text-align: right;\n",
       "    }\n",
       "</style>\n",
       "<table border=\"1\" class=\"dataframe\">\n",
       "  <thead>\n",
       "    <tr style=\"text-align: right;\">\n",
       "      <th></th>\n",
       "      <th>Subject_id</th>\n",
       "      <th>Activity_label</th>\n",
       "      <th>Time_stamp</th>\n",
       "      <th>x</th>\n",
       "      <th>y</th>\n",
       "      <th>z</th>\n",
       "    </tr>\n",
       "  </thead>\n",
       "  <tbody>\n",
       "    <tr>\n",
       "      <td>0</td>\n",
       "      <td>1635</td>\n",
       "      <td>A</td>\n",
       "      <td>676163861324906</td>\n",
       "      <td>-2.405701</td>\n",
       "      <td>-7.531982</td>\n",
       "      <td>1.126068</td>\n",
       "    </tr>\n",
       "    <tr>\n",
       "      <td>1</td>\n",
       "      <td>1635</td>\n",
       "      <td>A</td>\n",
       "      <td>676163881466507</td>\n",
       "      <td>-4.159500</td>\n",
       "      <td>-10.449677</td>\n",
       "      <td>0.558929</td>\n",
       "    </tr>\n",
       "    <tr>\n",
       "      <td>2</td>\n",
       "      <td>1635</td>\n",
       "      <td>A</td>\n",
       "      <td>676163901608109</td>\n",
       "      <td>-5.177933</td>\n",
       "      <td>-10.687866</td>\n",
       "      <td>0.279022</td>\n",
       "    </tr>\n",
       "    <tr>\n",
       "      <td>3</td>\n",
       "      <td>1635</td>\n",
       "      <td>A</td>\n",
       "      <td>676163921749711</td>\n",
       "      <td>-6.348404</td>\n",
       "      <td>-10.366272</td>\n",
       "      <td>0.676483</td>\n",
       "    </tr>\n",
       "    <tr>\n",
       "      <td>4</td>\n",
       "      <td>1635</td>\n",
       "      <td>A</td>\n",
       "      <td>676163941891312</td>\n",
       "      <td>-3.594833</td>\n",
       "      <td>-6.853378</td>\n",
       "      <td>2.384781</td>\n",
       "    </tr>\n",
       "  </tbody>\n",
       "</table>\n",
       "</div>"
      ],
      "text/plain": [
       "   Subject_id Activity_label       Time_stamp         x          y         z\n",
       "0        1635              A  676163861324906 -2.405701  -7.531982  1.126068\n",
       "1        1635              A  676163881466507 -4.159500 -10.449677  0.558929\n",
       "2        1635              A  676163901608109 -5.177933 -10.687866  0.279022\n",
       "3        1635              A  676163921749711 -6.348404 -10.366272  0.676483\n",
       "4        1635              A  676163941891312 -3.594833  -6.853378  2.384781"
      ]
     },
     "execution_count": 3,
     "metadata": {},
     "output_type": "execute_result"
    }
   ],
   "source": [
    "df.head()"
   ]
  },
  {
   "cell_type": "code",
   "execution_count": 4,
   "metadata": {},
   "outputs": [
    {
     "data": {
      "text/plain": [
       "array(['A', 'B', 'C', 'D', 'E', 'F', 'G', 'H', 'I', 'J', 'K', 'L', 'M',\n",
       "       'O', 'P', 'Q', 'R', 'S'], dtype=object)"
      ]
     },
     "execution_count": 4,
     "metadata": {},
     "output_type": "execute_result"
    }
   ],
   "source": [
    "df.Activity_label.unique()"
   ]
  },
  {
   "cell_type": "code",
   "execution_count": 5,
   "metadata": {},
   "outputs": [],
   "source": [
    "df['x']=((df['x']-df['x'].min())/(df['x'].max()-df['x'].min()))  \n",
    "df['y']=((df['y']-df['y'].min())/(df['y'].max()-df['y'].min()))   \n",
    "df['z']=((df['z']-df['z'].min())/(df['z'].max()-df['z'].min()))  "
   ]
  },
  {
   "cell_type": "code",
   "execution_count": 6,
   "metadata": {},
   "outputs": [
    {
     "data": {
      "text/html": [
       "<div>\n",
       "<style scoped>\n",
       "    .dataframe tbody tr th:only-of-type {\n",
       "        vertical-align: middle;\n",
       "    }\n",
       "\n",
       "    .dataframe tbody tr th {\n",
       "        vertical-align: top;\n",
       "    }\n",
       "\n",
       "    .dataframe thead th {\n",
       "        text-align: right;\n",
       "    }\n",
       "</style>\n",
       "<table border=\"1\" class=\"dataframe\">\n",
       "  <thead>\n",
       "    <tr style=\"text-align: right;\">\n",
       "      <th></th>\n",
       "      <th>Subject_id</th>\n",
       "      <th>Activity_label</th>\n",
       "      <th>Time_stamp</th>\n",
       "      <th>x</th>\n",
       "      <th>y</th>\n",
       "      <th>z</th>\n",
       "    </tr>\n",
       "  </thead>\n",
       "  <tbody>\n",
       "    <tr>\n",
       "      <td>0</td>\n",
       "      <td>1635</td>\n",
       "      <td>A</td>\n",
       "      <td>676163861324906</td>\n",
       "      <td>0.444713</td>\n",
       "      <td>0.303963</td>\n",
       "      <td>0.535369</td>\n",
       "    </tr>\n",
       "    <tr>\n",
       "      <td>1</td>\n",
       "      <td>1635</td>\n",
       "      <td>A</td>\n",
       "      <td>676163881466507</td>\n",
       "      <td>0.399743</td>\n",
       "      <td>0.229149</td>\n",
       "      <td>0.520827</td>\n",
       "    </tr>\n",
       "    <tr>\n",
       "      <td>2</td>\n",
       "      <td>1635</td>\n",
       "      <td>A</td>\n",
       "      <td>676163901608109</td>\n",
       "      <td>0.373629</td>\n",
       "      <td>0.223042</td>\n",
       "      <td>0.513650</td>\n",
       "    </tr>\n",
       "    <tr>\n",
       "      <td>3</td>\n",
       "      <td>1635</td>\n",
       "      <td>A</td>\n",
       "      <td>676163921749711</td>\n",
       "      <td>0.343617</td>\n",
       "      <td>0.231288</td>\n",
       "      <td>0.523841</td>\n",
       "    </tr>\n",
       "    <tr>\n",
       "      <td>4</td>\n",
       "      <td>1635</td>\n",
       "      <td>A</td>\n",
       "      <td>676163941891312</td>\n",
       "      <td>0.414222</td>\n",
       "      <td>0.321363</td>\n",
       "      <td>0.567644</td>\n",
       "    </tr>\n",
       "  </tbody>\n",
       "</table>\n",
       "</div>"
      ],
      "text/plain": [
       "   Subject_id Activity_label       Time_stamp         x         y         z\n",
       "0        1635              A  676163861324906  0.444713  0.303963  0.535369\n",
       "1        1635              A  676163881466507  0.399743  0.229149  0.520827\n",
       "2        1635              A  676163901608109  0.373629  0.223042  0.513650\n",
       "3        1635              A  676163921749711  0.343617  0.231288  0.523841\n",
       "4        1635              A  676163941891312  0.414222  0.321363  0.567644"
      ]
     },
     "execution_count": 6,
     "metadata": {},
     "output_type": "execute_result"
    }
   ],
   "source": [
    "df.head()"
   ]
  },
  {
   "cell_type": "code",
   "execution_count": 7,
   "metadata": {},
   "outputs": [],
   "source": [
    "df.to_csv(\"/home/emirhan/Desktop/tez/wisdm-dataset/wisdm-dataset/raw/phone/accel/data_1604_accel_s_phone.txt\", index=False)"
   ]
  },
  {
   "cell_type": "code",
   "execution_count": 8,
   "metadata": {},
   "outputs": [],
   "source": [
    "new_df=pd.read_csv(\"/home/emirhan/Desktop/tez/wisdm-dataset/wisdm-dataset/raw/phone/accel/data_1604_accel_s_phone.txt\")"
   ]
  },
  {
   "cell_type": "code",
   "execution_count": 9,
   "metadata": {},
   "outputs": [
    {
     "data": {
      "text/html": [
       "<div>\n",
       "<style scoped>\n",
       "    .dataframe tbody tr th:only-of-type {\n",
       "        vertical-align: middle;\n",
       "    }\n",
       "\n",
       "    .dataframe tbody tr th {\n",
       "        vertical-align: top;\n",
       "    }\n",
       "\n",
       "    .dataframe thead th {\n",
       "        text-align: right;\n",
       "    }\n",
       "</style>\n",
       "<table border=\"1\" class=\"dataframe\">\n",
       "  <thead>\n",
       "    <tr style=\"text-align: right;\">\n",
       "      <th></th>\n",
       "      <th>Subject_id</th>\n",
       "      <th>Activity_label</th>\n",
       "      <th>Time_stamp</th>\n",
       "      <th>x</th>\n",
       "      <th>y</th>\n",
       "      <th>z</th>\n",
       "    </tr>\n",
       "  </thead>\n",
       "  <tbody>\n",
       "    <tr>\n",
       "      <td>0</td>\n",
       "      <td>1635</td>\n",
       "      <td>A</td>\n",
       "      <td>676163861324906</td>\n",
       "      <td>0.444713</td>\n",
       "      <td>0.303963</td>\n",
       "      <td>0.535369</td>\n",
       "    </tr>\n",
       "    <tr>\n",
       "      <td>1</td>\n",
       "      <td>1635</td>\n",
       "      <td>A</td>\n",
       "      <td>676163881466507</td>\n",
       "      <td>0.399743</td>\n",
       "      <td>0.229149</td>\n",
       "      <td>0.520827</td>\n",
       "    </tr>\n",
       "    <tr>\n",
       "      <td>2</td>\n",
       "      <td>1635</td>\n",
       "      <td>A</td>\n",
       "      <td>676163901608109</td>\n",
       "      <td>0.373629</td>\n",
       "      <td>0.223042</td>\n",
       "      <td>0.513650</td>\n",
       "    </tr>\n",
       "    <tr>\n",
       "      <td>3</td>\n",
       "      <td>1635</td>\n",
       "      <td>A</td>\n",
       "      <td>676163921749711</td>\n",
       "      <td>0.343617</td>\n",
       "      <td>0.231288</td>\n",
       "      <td>0.523841</td>\n",
       "    </tr>\n",
       "    <tr>\n",
       "      <td>4</td>\n",
       "      <td>1635</td>\n",
       "      <td>A</td>\n",
       "      <td>676163941891312</td>\n",
       "      <td>0.414222</td>\n",
       "      <td>0.321363</td>\n",
       "      <td>0.567644</td>\n",
       "    </tr>\n",
       "  </tbody>\n",
       "</table>\n",
       "</div>"
      ],
      "text/plain": [
       "   Subject_id Activity_label       Time_stamp         x         y         z\n",
       "0        1635              A  676163861324906  0.444713  0.303963  0.535369\n",
       "1        1635              A  676163881466507  0.399743  0.229149  0.520827\n",
       "2        1635              A  676163901608109  0.373629  0.223042  0.513650\n",
       "3        1635              A  676163921749711  0.343617  0.231288  0.523841\n",
       "4        1635              A  676163941891312  0.414222  0.321363  0.567644"
      ]
     },
     "execution_count": 9,
     "metadata": {},
     "output_type": "execute_result"
    }
   ],
   "source": [
    "new_df.head()"
   ]
  },
  {
   "cell_type": "code",
   "execution_count": 10,
   "metadata": {},
   "outputs": [
    {
     "data": {
      "text/html": [
       "<div>\n",
       "<style scoped>\n",
       "    .dataframe tbody tr th:only-of-type {\n",
       "        vertical-align: middle;\n",
       "    }\n",
       "\n",
       "    .dataframe tbody tr th {\n",
       "        vertical-align: top;\n",
       "    }\n",
       "\n",
       "    .dataframe thead th {\n",
       "        text-align: right;\n",
       "    }\n",
       "</style>\n",
       "<table border=\"1\" class=\"dataframe\">\n",
       "  <thead>\n",
       "    <tr style=\"text-align: right;\">\n",
       "      <th></th>\n",
       "      <th>Subject_id</th>\n",
       "      <th>Time_stamp</th>\n",
       "      <th>x</th>\n",
       "      <th>y</th>\n",
       "      <th>z</th>\n",
       "    </tr>\n",
       "  </thead>\n",
       "  <tbody>\n",
       "    <tr>\n",
       "      <td>Subject_id</td>\n",
       "      <td>NaN</td>\n",
       "      <td>NaN</td>\n",
       "      <td>NaN</td>\n",
       "      <td>NaN</td>\n",
       "      <td>NaN</td>\n",
       "    </tr>\n",
       "    <tr>\n",
       "      <td>Time_stamp</td>\n",
       "      <td>NaN</td>\n",
       "      <td>1.000000</td>\n",
       "      <td>-0.182065</td>\n",
       "      <td>0.310777</td>\n",
       "      <td>0.125953</td>\n",
       "    </tr>\n",
       "    <tr>\n",
       "      <td>x</td>\n",
       "      <td>NaN</td>\n",
       "      <td>-0.182065</td>\n",
       "      <td>1.000000</td>\n",
       "      <td>-0.259724</td>\n",
       "      <td>-0.461589</td>\n",
       "    </tr>\n",
       "    <tr>\n",
       "      <td>y</td>\n",
       "      <td>NaN</td>\n",
       "      <td>0.310777</td>\n",
       "      <td>-0.259724</td>\n",
       "      <td>1.000000</td>\n",
       "      <td>0.145043</td>\n",
       "    </tr>\n",
       "    <tr>\n",
       "      <td>z</td>\n",
       "      <td>NaN</td>\n",
       "      <td>0.125953</td>\n",
       "      <td>-0.461589</td>\n",
       "      <td>0.145043</td>\n",
       "      <td>1.000000</td>\n",
       "    </tr>\n",
       "  </tbody>\n",
       "</table>\n",
       "</div>"
      ],
      "text/plain": [
       "            Subject_id  Time_stamp         x         y         z\n",
       "Subject_id         NaN         NaN       NaN       NaN       NaN\n",
       "Time_stamp         NaN    1.000000 -0.182065  0.310777  0.125953\n",
       "x                  NaN   -0.182065  1.000000 -0.259724 -0.461589\n",
       "y                  NaN    0.310777 -0.259724  1.000000  0.145043\n",
       "z                  NaN    0.125953 -0.461589  0.145043  1.000000"
      ]
     },
     "execution_count": 10,
     "metadata": {},
     "output_type": "execute_result"
    }
   ],
   "source": [
    "new_df.corr()"
   ]
  },
  {
   "cell_type": "code",
   "execution_count": 11,
   "metadata": {},
   "outputs": [
    {
     "data": {
      "text/plain": [
       "Subject_id                   1635\n",
       "Activity_label                  S\n",
       "Time_stamp        680278073812298\n",
       "x                               1\n",
       "y                               1\n",
       "z                               1\n",
       "dtype: object"
      ]
     },
     "execution_count": 11,
     "metadata": {},
     "output_type": "execute_result"
    }
   ],
   "source": [
    "new_df.max()"
   ]
  },
  {
   "cell_type": "code",
   "execution_count": 12,
   "metadata": {},
   "outputs": [
    {
     "data": {
      "image/png": "[encoded data removed]",
      "text/plain": [
       "<Figure size 432x288 with 1 Axes>"
      ]
     },
     "metadata": {
      "needs_background": "light"
     },
     "output_type": "display_data"
    }
   ],
   "source": [
    "bplot = sns.boxplot(y='x', x='Activity_label', \n",
    "                 data=df, \n",
    "                 width=0.5,\n",
    "                 palette=\"colorblind\")    "
   ]
  },
  {
   "cell_type": "code",
   "execution_count": 13,
   "metadata": {},
   "outputs": [
    {
     "data": {
      "text/plain": [
       "Subject_id        0\n",
       "Activity_label    0\n",
       "Time_stamp        0\n",
       "x                 0\n",
       "y                 0\n",
       "z                 0\n",
       "dtype: int64"
      ]
     },
     "execution_count": 13,
     "metadata": {},
     "output_type": "execute_result"
    }
   ],
   "source": [
    "new_df.isnull().sum()"
   ]
  },
  {
   "cell_type": "code",
   "execution_count": 14,
   "metadata": {},
   "outputs": [
    {
     "data": {
      "text/html": [
       "<div>\n",
       "<style scoped>\n",
       "    .dataframe tbody tr th:only-of-type {\n",
       "        vertical-align: middle;\n",
       "    }\n",
       "\n",
       "    .dataframe tbody tr th {\n",
       "        vertical-align: top;\n",
       "    }\n",
       "\n",
       "    .dataframe thead th {\n",
       "        text-align: right;\n",
       "    }\n",
       "</style>\n",
       "<table border=\"1\" class=\"dataframe\">\n",
       "  <thead>\n",
       "    <tr style=\"text-align: right;\">\n",
       "      <th></th>\n",
       "      <th>Subject_id</th>\n",
       "      <th>Time_stamp</th>\n",
       "      <th>x</th>\n",
       "      <th>y</th>\n",
       "      <th>z</th>\n",
       "    </tr>\n",
       "  </thead>\n",
       "  <tbody>\n",
       "    <tr>\n",
       "      <td>0.01</td>\n",
       "      <td>1635.0</td>\n",
       "      <td>6.761898e+14</td>\n",
       "      <td>0.250338</td>\n",
       "      <td>0.000000</td>\n",
       "      <td>0.239245</td>\n",
       "    </tr>\n",
       "    <tr>\n",
       "      <td>0.99</td>\n",
       "      <td>1635.0</td>\n",
       "      <td>6.802132e+14</td>\n",
       "      <td>0.931874</td>\n",
       "      <td>0.653003</td>\n",
       "      <td>0.818415</td>\n",
       "    </tr>\n",
       "  </tbody>\n",
       "</table>\n",
       "</div>"
      ],
      "text/plain": [
       "      Subject_id    Time_stamp         x         y         z\n",
       "0.01      1635.0  6.761898e+14  0.250338  0.000000  0.239245\n",
       "0.99      1635.0  6.802132e+14  0.931874  0.653003  0.818415"
      ]
     },
     "execution_count": 14,
     "metadata": {},
     "output_type": "execute_result"
    }
   ],
   "source": [
    "low=0.01\n",
    "high=0.99\n",
    "new_df.quantile([low,high])"
   ]
  },
  {
   "cell_type": "code",
   "execution_count": 15,
   "metadata": {},
   "outputs": [],
   "source": [
    "qdf=new_df.quantile([low,high])"
   ]
  },
  {
   "cell_type": "code",
   "execution_count": 16,
   "metadata": {},
   "outputs": [
    {
     "data": {
      "text/plain": [
       "Subject_id        0\n",
       "Activity_label    0\n",
       "Time_stamp        0\n",
       "x                 0\n",
       "y                 0\n",
       "z                 0\n",
       "dtype: int64"
      ]
     },
     "execution_count": 16,
     "metadata": {},
     "output_type": "execute_result"
    }
   ],
   "source": [
    "new_df.isnull().sum()"
   ]
  },
  {
   "cell_type": "code",
   "execution_count": 17,
   "metadata": {},
   "outputs": [
    {
     "data": {
      "text/plain": [
       "0.01    0.250338\n",
       "0.99    0.931874\n",
       "Name: x, dtype: float64"
      ]
     },
     "execution_count": 17,
     "metadata": {},
     "output_type": "execute_result"
    }
   ],
   "source": [
    "qdf.x"
   ]
  },
  {
   "cell_type": "code",
   "execution_count": 18,
   "metadata": {},
   "outputs": [],
   "source": [
    "new_df.x=new_df.x.apply(lambda v: v if qdf.x[low]< v < qdf.x[high] else np.nan)"
   ]
  },
  {
   "cell_type": "code",
   "execution_count": 19,
   "metadata": {},
   "outputs": [],
   "source": [
    "new_df.y=new_df.y.apply(lambda v: v if qdf.y[low]< v < qdf.y[high] else np.nan)"
   ]
  },
  {
   "cell_type": "code",
   "execution_count": 20,
   "metadata": {},
   "outputs": [],
   "source": [
    "new_df.z=new_df.z.apply(lambda v: v if qdf.z[low]< v < qdf.z[high] else np.nan)"
   ]
  },
  {
   "cell_type": "code",
   "execution_count": 21,
   "metadata": {},
   "outputs": [
    {
     "data": {
      "text/plain": [
       "Subject_id           0\n",
       "Activity_label       0\n",
       "Time_stamp           0\n",
       "x                 2578\n",
       "y                 3416\n",
       "z                 2578\n",
       "dtype: int64"
      ]
     },
     "execution_count": 21,
     "metadata": {},
     "output_type": "execute_result"
    }
   ],
   "source": [
    "new_df.isnull().sum()"
   ]
  },
  {
   "cell_type": "code",
   "execution_count": 22,
   "metadata": {},
   "outputs": [],
   "source": [
    "new_df.dropna(inplace=True)"
   ]
  },
  {
   "cell_type": "code",
   "execution_count": 23,
   "metadata": {},
   "outputs": [
    {
     "data": {
      "text/html": [
       "<div>\n",
       "<style scoped>\n",
       "    .dataframe tbody tr th:only-of-type {\n",
       "        vertical-align: middle;\n",
       "    }\n",
       "\n",
       "    .dataframe tbody tr th {\n",
       "        vertical-align: top;\n",
       "    }\n",
       "\n",
       "    .dataframe thead th {\n",
       "        text-align: right;\n",
       "    }\n",
       "</style>\n",
       "<table border=\"1\" class=\"dataframe\">\n",
       "  <thead>\n",
       "    <tr style=\"text-align: right;\">\n",
       "      <th></th>\n",
       "      <th>Subject_id</th>\n",
       "      <th>Time_stamp</th>\n",
       "      <th>x</th>\n",
       "      <th>y</th>\n",
       "      <th>z</th>\n",
       "    </tr>\n",
       "  </thead>\n",
       "  <tbody>\n",
       "    <tr>\n",
       "      <td>count</td>\n",
       "      <td>122442.0</td>\n",
       "      <td>1.224420e+05</td>\n",
       "      <td>122442.000000</td>\n",
       "      <td>122442.000000</td>\n",
       "      <td>122442.000000</td>\n",
       "    </tr>\n",
       "    <tr>\n",
       "      <td>mean</td>\n",
       "      <td>1635.0</td>\n",
       "      <td>6.779759e+14</td>\n",
       "      <td>0.427280</td>\n",
       "      <td>0.380133</td>\n",
       "      <td>0.533055</td>\n",
       "    </tr>\n",
       "    <tr>\n",
       "      <td>std</td>\n",
       "      <td>0.0</td>\n",
       "      <td>1.091368e+12</td>\n",
       "      <td>0.137724</td>\n",
       "      <td>0.114940</td>\n",
       "      <td>0.123832</td>\n",
       "    </tr>\n",
       "    <tr>\n",
       "      <td>min</td>\n",
       "      <td>1635.0</td>\n",
       "      <td>6.761639e+14</td>\n",
       "      <td>0.250343</td>\n",
       "      <td>0.000086</td>\n",
       "      <td>0.239247</td>\n",
       "    </tr>\n",
       "    <tr>\n",
       "      <td>25%</td>\n",
       "      <td>1635.0</td>\n",
       "      <td>6.769824e+14</td>\n",
       "      <td>0.316088</td>\n",
       "      <td>0.301458</td>\n",
       "      <td>0.450286</td>\n",
       "    </tr>\n",
       "    <tr>\n",
       "      <td>50%</td>\n",
       "      <td>1635.0</td>\n",
       "      <td>6.779991e+14</td>\n",
       "      <td>0.365240</td>\n",
       "      <td>0.385705</td>\n",
       "      <td>0.527584</td>\n",
       "    </tr>\n",
       "    <tr>\n",
       "      <td>75%</td>\n",
       "      <td>1635.0</td>\n",
       "      <td>6.787176e+14</td>\n",
       "      <td>0.512882</td>\n",
       "      <td>0.468905</td>\n",
       "      <td>0.641523</td>\n",
       "    </tr>\n",
       "    <tr>\n",
       "      <td>max</td>\n",
       "      <td>1635.0</td>\n",
       "      <td>6.802781e+14</td>\n",
       "      <td>0.931826</td>\n",
       "      <td>0.653002</td>\n",
       "      <td>0.818370</td>\n",
       "    </tr>\n",
       "  </tbody>\n",
       "</table>\n",
       "</div>"
      ],
      "text/plain": [
       "       Subject_id    Time_stamp              x              y              z\n",
       "count    122442.0  1.224420e+05  122442.000000  122442.000000  122442.000000\n",
       "mean       1635.0  6.779759e+14       0.427280       0.380133       0.533055\n",
       "std           0.0  1.091368e+12       0.137724       0.114940       0.123832\n",
       "min        1635.0  6.761639e+14       0.250343       0.000086       0.239247\n",
       "25%        1635.0  6.769824e+14       0.316088       0.301458       0.450286\n",
       "50%        1635.0  6.779991e+14       0.365240       0.385705       0.527584\n",
       "75%        1635.0  6.787176e+14       0.512882       0.468905       0.641523\n",
       "max        1635.0  6.802781e+14       0.931826       0.653002       0.818370"
      ]
     },
     "execution_count": 23,
     "metadata": {},
     "output_type": "execute_result"
    }
   ],
   "source": [
    "new_df.describe()"
   ]
  },
  {
   "cell_type": "code",
   "execution_count": 24,
   "metadata": {},
   "outputs": [
    {
     "data": {
      "text/html": [
       "<div>\n",
       "<style scoped>\n",
       "    .dataframe tbody tr th:only-of-type {\n",
       "        vertical-align: middle;\n",
       "    }\n",
       "\n",
       "    .dataframe tbody tr th {\n",
       "        vertical-align: top;\n",
       "    }\n",
       "\n",
       "    .dataframe thead th {\n",
       "        text-align: right;\n",
       "    }\n",
       "</style>\n",
       "<table border=\"1\" class=\"dataframe\">\n",
       "  <thead>\n",
       "    <tr style=\"text-align: right;\">\n",
       "      <th></th>\n",
       "      <th>Subject_id</th>\n",
       "      <th>Activity_label</th>\n",
       "      <th>Time_stamp</th>\n",
       "      <th>x</th>\n",
       "      <th>y</th>\n",
       "      <th>z</th>\n",
       "    </tr>\n",
       "  </thead>\n",
       "  <tbody>\n",
       "    <tr>\n",
       "      <td>0</td>\n",
       "      <td>1635</td>\n",
       "      <td>A</td>\n",
       "      <td>676163861324906</td>\n",
       "      <td>0.444713</td>\n",
       "      <td>0.303963</td>\n",
       "      <td>0.535369</td>\n",
       "    </tr>\n",
       "    <tr>\n",
       "      <td>1</td>\n",
       "      <td>1635</td>\n",
       "      <td>A</td>\n",
       "      <td>676163881466507</td>\n",
       "      <td>0.399743</td>\n",
       "      <td>0.229149</td>\n",
       "      <td>0.520827</td>\n",
       "    </tr>\n",
       "    <tr>\n",
       "      <td>2</td>\n",
       "      <td>1635</td>\n",
       "      <td>A</td>\n",
       "      <td>676163901608109</td>\n",
       "      <td>0.373629</td>\n",
       "      <td>0.223042</td>\n",
       "      <td>0.513650</td>\n",
       "    </tr>\n",
       "    <tr>\n",
       "      <td>3</td>\n",
       "      <td>1635</td>\n",
       "      <td>A</td>\n",
       "      <td>676163921749711</td>\n",
       "      <td>0.343617</td>\n",
       "      <td>0.231288</td>\n",
       "      <td>0.523841</td>\n",
       "    </tr>\n",
       "    <tr>\n",
       "      <td>4</td>\n",
       "      <td>1635</td>\n",
       "      <td>A</td>\n",
       "      <td>676163941891312</td>\n",
       "      <td>0.414222</td>\n",
       "      <td>0.321363</td>\n",
       "      <td>0.567644</td>\n",
       "    </tr>\n",
       "  </tbody>\n",
       "</table>\n",
       "</div>"
      ],
      "text/plain": [
       "   Subject_id Activity_label       Time_stamp         x         y         z\n",
       "0        1635              A  676163861324906  0.444713  0.303963  0.535369\n",
       "1        1635              A  676163881466507  0.399743  0.229149  0.520827\n",
       "2        1635              A  676163901608109  0.373629  0.223042  0.513650\n",
       "3        1635              A  676163921749711  0.343617  0.231288  0.523841\n",
       "4        1635              A  676163941891312  0.414222  0.321363  0.567644"
      ]
     },
     "execution_count": 24,
     "metadata": {},
     "output_type": "execute_result"
    }
   ],
   "source": [
    "new_df.head()"
   ]
  },
  {
   "cell_type": "code",
   "execution_count": 25,
   "metadata": {},
   "outputs": [
    {
     "data": {
      "text/plain": [
       "array([0.44471323, 0.39974333, 0.37362927, ..., 0.29295052, 0.30037266,\n",
       "       0.29813429])"
      ]
     },
     "execution_count": 25,
     "metadata": {},
     "output_type": "execute_result"
    }
   ],
   "source": [
    "new_df.x.unique()"
   ]
  },
  {
   "cell_type": "code",
   "execution_count": 26,
   "metadata": {},
   "outputs": [
    {
     "data": {
      "image/png": "[encoded data removed]",
      "text/plain": [
       "<Figure size 432x288 with 1 Axes>"
      ]
     },
     "metadata": {
      "needs_background": "light"
     },
     "output_type": "display_data"
    }
   ],
   "source": [
    "bplot = sns.boxplot(y='x', x='Activity_label', \n",
    "                 data=new_df, \n",
    "                 width=0.5,\n",
    "                 palette=\"colorblind\")    "
   ]
  },
  {
   "cell_type": "code",
   "execution_count": 27,
   "metadata": {},
   "outputs": [
    {
     "data": {
      "text/plain": [
       "'new_df = pd.DataFrame(new_df, columns=[\\'x\\', \\'y\\', \\'z\\'])\\nsns.kdeplot(new_df[\\'x\\'],shade=True, label=\\'Accelemater x\\',color=\"red\");\\nsns.kdeplot(new_df[\\'y\\'],shade=True, label=\\'Accelemater y\\',color=\"blue\");\\nsns.kdeplot(new_df[\\'z\\'],shade=True, label=\\'Accelemater z\\',color=\"black\");\\nplt.title(\\'Phone Accelemator Distribution Graph\\')\\nplt.xlabel(\\'Accelemator Values\\')\\nplt.ylabel(\\'\\') '"
      ]
     },
     "execution_count": 27,
     "metadata": {},
     "output_type": "execute_result"
    }
   ],
   "source": [
    "\"\"\"new_df = pd.DataFrame(new_df, columns=['x', 'y', 'z'])\n",
    "sns.kdeplot(new_df['x'],shade=True, label='Accelemater x',color=\"red\");\n",
    "sns.kdeplot(new_df['y'],shade=True, label='Accelemater y',color=\"blue\");\n",
    "sns.kdeplot(new_df['z'],shade=True, label='Accelemater z',color=\"black\");\n",
    "plt.title('Phone Accelemator Distribution Graph')\n",
    "plt.xlabel('Accelemator Values')\n",
    "plt.ylabel('') \"\"\" \n"
   ]
  },
  {
   "cell_type": "code",
   "execution_count": 28,
   "metadata": {},
   "outputs": [
    {
     "data": {
      "text/plain": [
       "Subject_id        0\n",
       "Activity_label    0\n",
       "Time_stamp        0\n",
       "x                 0\n",
       "y                 0\n",
       "z                 0\n",
       "dtype: int64"
      ]
     },
     "execution_count": 28,
     "metadata": {},
     "output_type": "execute_result"
    }
   ],
   "source": [
    "new_df.isnull().sum()"
   ]
  },
  {
   "cell_type": "code",
   "execution_count": 29,
   "metadata": {},
   "outputs": [],
   "source": [
    "#print(\"# numbers of original data:\"+str(len(new_df.index)))"
   ]
  },
  {
   "cell_type": "code",
   "execution_count": 30,
   "metadata": {},
   "outputs": [],
   "source": [
    "#new_df.info()"
   ]
  },
  {
   "cell_type": "code",
   "execution_count": 31,
   "metadata": {},
   "outputs": [],
   "source": [
    "#new_df.isnull()"
   ]
  },
  {
   "cell_type": "code",
   "execution_count": 32,
   "metadata": {},
   "outputs": [],
   "source": [
    "#new_df.isnull().sum()"
   ]
  },
  {
   "cell_type": "code",
   "execution_count": 33,
   "metadata": {},
   "outputs": [],
   "source": [
    "#new_df.head()"
   ]
  },
  {
   "cell_type": "code",
   "execution_count": 34,
   "metadata": {},
   "outputs": [],
   "source": [
    "new_df.drop(\"Subject_id\" , axis=1 , inplace=True)\n",
    "new_df.drop(\"Time_stamp\" , axis=1 , inplace=True)"
   ]
  },
  {
   "cell_type": "code",
   "execution_count": 35,
   "metadata": {},
   "outputs": [
    {
     "data": {
      "text/html": [
       "<div>\n",
       "<style scoped>\n",
       "    .dataframe tbody tr th:only-of-type {\n",
       "        vertical-align: middle;\n",
       "    }\n",
       "\n",
       "    .dataframe tbody tr th {\n",
       "        vertical-align: top;\n",
       "    }\n",
       "\n",
       "    .dataframe thead th {\n",
       "        text-align: right;\n",
       "    }\n",
       "</style>\n",
       "<table border=\"1\" class=\"dataframe\">\n",
       "  <thead>\n",
       "    <tr style=\"text-align: right;\">\n",
       "      <th></th>\n",
       "      <th>Activity_label</th>\n",
       "      <th>x</th>\n",
       "      <th>y</th>\n",
       "      <th>z</th>\n",
       "    </tr>\n",
       "  </thead>\n",
       "  <tbody>\n",
       "    <tr>\n",
       "      <td>0</td>\n",
       "      <td>A</td>\n",
       "      <td>0.444713</td>\n",
       "      <td>0.303963</td>\n",
       "      <td>0.535369</td>\n",
       "    </tr>\n",
       "    <tr>\n",
       "      <td>1</td>\n",
       "      <td>A</td>\n",
       "      <td>0.399743</td>\n",
       "      <td>0.229149</td>\n",
       "      <td>0.520827</td>\n",
       "    </tr>\n",
       "    <tr>\n",
       "      <td>2</td>\n",
       "      <td>A</td>\n",
       "      <td>0.373629</td>\n",
       "      <td>0.223042</td>\n",
       "      <td>0.513650</td>\n",
       "    </tr>\n",
       "    <tr>\n",
       "      <td>3</td>\n",
       "      <td>A</td>\n",
       "      <td>0.343617</td>\n",
       "      <td>0.231288</td>\n",
       "      <td>0.523841</td>\n",
       "    </tr>\n",
       "    <tr>\n",
       "      <td>4</td>\n",
       "      <td>A</td>\n",
       "      <td>0.414222</td>\n",
       "      <td>0.321363</td>\n",
       "      <td>0.567644</td>\n",
       "    </tr>\n",
       "  </tbody>\n",
       "</table>\n",
       "</div>"
      ],
      "text/plain": [
       "  Activity_label         x         y         z\n",
       "0              A  0.444713  0.303963  0.535369\n",
       "1              A  0.399743  0.229149  0.520827\n",
       "2              A  0.373629  0.223042  0.513650\n",
       "3              A  0.343617  0.231288  0.523841\n",
       "4              A  0.414222  0.321363  0.567644"
      ]
     },
     "execution_count": 35,
     "metadata": {},
     "output_type": "execute_result"
    }
   ],
   "source": [
    "new_df.head()"
   ]
  },
  {
   "cell_type": "code",
   "execution_count": 36,
   "metadata": {},
   "outputs": [
    {
     "name": "stdout",
     "output_type": "stream",
     "text": [
      "<class 'pandas.core.frame.DataFrame'>\n",
      "Int64Index: 122442 entries, 0 to 128851\n",
      "Data columns (total 4 columns):\n",
      "Activity_label    122442 non-null object\n",
      "x                 122442 non-null float64\n",
      "y                 122442 non-null float64\n",
      "z                 122442 non-null float64\n",
      "dtypes: float64(3), object(1)\n",
      "memory usage: 9.7+ MB\n"
     ]
    }
   ],
   "source": [
    "new_df.info()"
   ]
  },
  {
   "cell_type": "code",
   "execution_count": 37,
   "metadata": {},
   "outputs": [],
   "source": [
    "X = np.array(new_df.drop(['Activity_label'],axis=1))\n",
    "Y = np.array(new_df['Activity_label'])"
   ]
  },
  {
   "cell_type": "code",
   "execution_count": 38,
   "metadata": {},
   "outputs": [],
   "source": [
    "X_train, X_test, Y_train, Y_test = train_test_split(X,Y,random_state=0,test_size=0.2)"
   ]
  },
  {
   "cell_type": "code",
   "execution_count": 39,
   "metadata": {},
   "outputs": [],
   "source": [
    "from sklearn import svm"
   ]
  },
  {
   "cell_type": "code",
   "execution_count": 40,
   "metadata": {},
   "outputs": [],
   "source": [
    "classifier = svm.SVC(kernel = 'linear', C = 1).fit(X_train, Y_train)\n",
    "svm_predictions = classifier.predict(X_test) \n",
    "accuracy = classifier.score(X_test, Y_test) "
   ]
  },
  {
   "cell_type": "code",
   "execution_count": 41,
   "metadata": {},
   "outputs": [
    {
     "name": "stdout",
     "output_type": "stream",
     "text": [
      "0.7273469721099269\n"
     ]
    }
   ],
   "source": [
    "print(accuracy)"
   ]
  },
  {
   "cell_type": "code",
   "execution_count": 42,
   "metadata": {},
   "outputs": [
    {
     "data": {
      "text/plain": [
       "72.73469721099269"
      ]
     },
     "execution_count": 42,
     "metadata": {},
     "output_type": "execute_result"
    }
   ],
   "source": [
    "accuracy_percantage=100*accuracy\n",
    "accuracy_percantage"
   ]
  },
  {
   "cell_type": "code",
   "execution_count": 43,
   "metadata": {},
   "outputs": [
    {
     "name": "stdout",
     "output_type": "stream",
     "text": [
      "[[1283   44   64    0  197    0   73    0    0    0    5    0   54    0\n",
      "     1    0    0    0]\n",
      " [ 172  343   40   55   35    0  131   43   10    4   26   19   97   32\n",
      "    29    4   14    3]\n",
      " [ 192  168  618    0  226    0    0    5    0    0    2    1  172  133\n",
      "    49    2    0    0]\n",
      " [   0    0    0 1705    0    0    0    0    0    0    0    1    0    0\n",
      "     0    0    0    0]\n",
      " [  25    7   23    2 1783    0    0    0    0    0    0    0    4    1\n",
      "     0    0    0    0]\n",
      " [ 721    0    0    0    0    0    0    0    0    0    0    0    0    0\n",
      "     0    0    0    0]\n",
      " [   0    0    0    0    0    0  711    0    0    0    0    0    0    0\n",
      "     0    0    0    0]\n",
      " [   0    0    0    0    0    0    0 1740    0    0    0    0    0    0\n",
      "     0    0    2    0]\n",
      " [   0    4    0    1    0    0    0    5 1743    0    0   26    0    0\n",
      "     0    0    1    0]\n",
      " [   0    0    0    0    0    0    0    0    0  326    0    0    0    0\n",
      "   198  170    1    0]\n",
      " [   1    1    0    0    0    0   11    0    0    0 1804    0    0    2\n",
      "     0    0    0    0]\n",
      " [   0    2    0    2    0    0    0    7    9    0    0 1738    0    0\n",
      "     0    0    1    0]\n",
      " [ 347   61  317    0  658    0    3    6    0    2    0    1  295   39\n",
      "    61    3    0    1]\n",
      " [   0    1  124    0    0    0    0    4    0   16    0    0    8 1274\n",
      "   286   11    0    1]\n",
      " [   3    5   41    1    4    0    0    6    1   31    0    1   44  446\n",
      "  1101   17    0    0]\n",
      " [   0    0    0    0    0    0    0    0    0    2    0    0    0    0\n",
      "     0  691    0    0]\n",
      " [   0    0    0    0    0    0    0    0    7    0    0    9    0    0\n",
      "     0    0  657    0]\n",
      " [   0    0    0    0    0    0    0    0    0    1    0    0    0  144\n",
      "   633    1    0    0]]\n"
     ]
    }
   ],
   "source": [
    "y_pred=classifier.predict(X_test)\n",
    "print(confusion_matrix(Y_test,y_pred))"
   ]
  },
  {
   "cell_type": "code",
   "execution_count": null,
   "metadata": {},
   "outputs": [],
   "source": []
  }
 ],
 "metadata": {
  "kernelspec": {
   "display_name": "Python 3",
   "language": "python",
   "name": "python3"
  },
  "language_info": {
   "codemirror_mode": {
    "name": "ipython",
    "version": 3
   },
   "file_extension": ".py",
   "mimetype": "text/x-python",
   "name": "python",
   "nbconvert_exporter": "python",
   "pygments_lexer": "ipython3",
   "version": "3.7.4"
  }
 },
 "nbformat": 4,
 "nbformat_minor": 2
}
